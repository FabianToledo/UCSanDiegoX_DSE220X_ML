{
 "cells": [
  {
   "cell_type": "markdown",
   "metadata": {},
   "source": [
    "# Gaussian generative models for handwritten digit classification"
   ]
  },
  {
   "cell_type": "markdown",
   "metadata": {},
   "source": [
    "Recall that the 1-NN classifier yielded a 3.09% test error rate on the MNIST data set of handwritten digits. We will now see that a Gaussian generative model does almost as well, while being significantly faster and more compact."
   ]
  },
  {
   "cell_type": "markdown",
   "metadata": {},
   "source": [
    "## 1. Set up notebook and load in data"
   ]
  },
  {
   "cell_type": "markdown",
   "metadata": {},
   "source": [
    "As usual, we start by importing the required packages and data. For this notebook we will be using the *entire* `MNIST` dataset. The code below defines some helper functions that will load `MNIST` onto your computer."
   ]
  },
  {
   "cell_type": "code",
   "execution_count": 5,
   "metadata": {},
   "outputs": [],
   "source": [
    "%matplotlib inline\n",
    "import matplotlib.pyplot as plt \n",
    "import gzip, os\n",
    "import numpy as np\n",
    "from scipy.stats import multivariate_normal\n",
    "import sys\n",
    "\n",
    "if sys.version_info[0] == 2:\n",
    "    from urllib import urlretrieve\n",
    "else:\n",
    "    from urllib.request import urlretrieve"
   ]
  },
  {
   "cell_type": "code",
   "execution_count": 6,
   "metadata": {},
   "outputs": [],
   "source": [
    "# Function that downloads a specified MNIST data file from Yann Le Cun's website\n",
    "def download(filename, source='http://yann.lecun.com/exdb/mnist/'):\n",
    "    print(\"Downloading %s\" % filename)\n",
    "    urlretrieve(source + filename, filename)\n",
    "\n",
    "# Invokes download() if necessary, then reads in images\n",
    "def load_mnist_images(filename):\n",
    "    if not os.path.exists(filename):\n",
    "        download(filename)\n",
    "    with gzip.open(filename, 'rb') as f:\n",
    "        data = np.frombuffer(f.read(), np.uint8, offset=16)\n",
    "    data = data.reshape(-1,784)\n",
    "    return data\n",
    "\n",
    "def load_mnist_labels(filename):\n",
    "    if not os.path.exists(filename):\n",
    "        download(filename)\n",
    "    with gzip.open(filename, 'rb') as f:\n",
    "        data = np.frombuffer(f.read(), np.uint8, offset=8)\n",
    "    return data"
   ]
  },
  {
   "cell_type": "markdown",
   "metadata": {},
   "source": [
    "Now load in the training set and test set"
   ]
  },
  {
   "cell_type": "code",
   "execution_count": 7,
   "metadata": {},
   "outputs": [
    {
     "name": "stdout",
     "output_type": "stream",
     "text": [
      "Downloading train-images-idx3-ubyte.gz\n",
      "Downloading train-labels-idx1-ubyte.gz\n",
      "Downloading t10k-images-idx3-ubyte.gz\n",
      "Downloading t10k-labels-idx1-ubyte.gz\n"
     ]
    }
   ],
   "source": [
    "## Load the training set\n",
    "train_data = load_mnist_images('train-images-idx3-ubyte.gz')\n",
    "train_labels = load_mnist_labels('train-labels-idx1-ubyte.gz')\n",
    "\n",
    "## Load the testing set\n",
    "test_data = load_mnist_images('t10k-images-idx3-ubyte.gz')\n",
    "test_labels = load_mnist_labels('t10k-labels-idx1-ubyte.gz')"
   ]
  },
  {
   "cell_type": "markdown",
   "metadata": {},
   "source": [
    "The function **displaychar** shows a single MNIST digit. To do this, it first has to reshape the 784-dimensional vector into a 28x28 image."
   ]
  },
  {
   "cell_type": "code",
   "execution_count": 8,
   "metadata": {},
   "outputs": [],
   "source": [
    "def displaychar(image):\n",
    "    plt.imshow(np.reshape(image, (28,28)), cmap=plt.cm.gray)\n",
    "    plt.axis('off')\n",
    "    plt.show()"
   ]
  },
  {
   "cell_type": "code",
   "execution_count": 9,
   "metadata": {},
   "outputs": [
    {
     "data": {
      "image/png": "[encoded data removed]",
      "text/plain": [
       "<Figure size 432x288 with 1 Axes>"
      ]
     },
     "metadata": {
      "needs_background": "light"
     },
     "output_type": "display_data"
    }
   ],
   "source": [
    "displaychar(train_data[58])"
   ]
  },
  {
   "cell_type": "markdown",
   "metadata": {},
   "source": [
    "The training set consists of 60,000 images. Thus `train_data` should be a 60000x784 array while `train_labels` should be 60000x1. Let's check."
   ]
  },
  {
   "cell_type": "code",
   "execution_count": 10,
   "metadata": {},
   "outputs": [
    {
     "data": {
      "text/plain": [
       "((60000, 784), (60000,))"
      ]
     },
     "execution_count": 10,
     "metadata": {},
     "output_type": "execute_result"
    }
   ],
   "source": [
    "train_data.shape, train_labels.shape"
   ]
  },
  {
   "cell_type": "markdown",
   "metadata": {},
   "source": [
    "## 2. Fit a Gaussian generative model to the training data"
   ]
  },
  {
   "cell_type": "markdown",
   "metadata": {},
   "source": [
    "**<font color=\"magenta\">For you to do:</font>** Define a function, **fit_generative_model**, that takes as input a training set (data `x` and labels `y`) and fits a Gaussian generative model to it. It should return the parameters of this generative model; for each label `j = 0,1,...,9`, we have:\n",
    "* `pi[j]`: the frequency of that label\n",
    "* `mu[j]`: the 784-dimensional mean vector\n",
    "* `sigma[j]`: the 784x784 covariance matrix\n",
    "\n",
    "This means that `pi` is 10x1, `mu` is 10x784, and `sigma` is 10x784x784.\n",
    "\n",
    "We have already seen how to fit a Gaussian generative model in the Winery example, but now there is an added ingredient. <font color=\"magenta\">The empirical covariances are very likely to be singular (or close to singular), which means that we won't be able to do calculations with them</font>. Thus it is important to **regularize** these matrices. The standard way of doing this is to add `cI` to them, where `c` is some constant and `I` is the 784-dimensional identity matrix. (To put it another way, we compute the empirical covariances and then increase their diagonal entries by some constant `c`.)\n",
    "\n",
    "This modification is guaranteed to yield covariance matrices that are non-singular, for any `c > 0`, no matter how small. But this doesn't mean that we should make `c` as small as possible. Indeed, `c` is now a parameter, and by setting it appropriately, we can improve the performance of the model. We will study **regularization** in greater detail over the coming weeks.\n",
    "\n",
    "Your routine needs to choose a good setting of `c`. Crucially, this needs to be done using the training set alone. So you might try setting aside part of the training set as a validation set, or using some kind of cross-validation."
   ]
  },
  {
   "cell_type": "code",
   "execution_count": 54,
   "metadata": {},
   "outputs": [],
   "source": [
    "\n",
    "\n",
    "def fit_generative_model(x,y):\n",
    "    k = 10  # labels 0,1,...,k-1\n",
    "    d = (x.shape)[1]  # number of features\n",
    "    mu = np.zeros((k,d))\n",
    "    sigma = np.zeros((k,d,d))\n",
    "    pi = np.zeros(k)\n",
    "    for label in range(k):\n",
    "        indices = (label == y)\n",
    "        pi[label] = float(sum(indices)) / float(len(y))\n",
    "        mu[label] = np.mean(x[indices],axis=0)\n",
    "        sigma[label] = np.cov(x[indices], rowvar=False, bias=True)\n",
    "    # Halt and return parameters\n",
    "    return mu, sigma, pi\n",
    "\n",
    "def regularize(sigma, c):\n",
    "    \"\"\"c: Constant to regularize the covariance matrices\\n\n",
    "    sigma: the covariance matrix\"\"\"   \n",
    "    d = (sigma.shape)[1]  # number of features\n",
    "     # Regularization ADD cI to sigma\n",
    "    return sigma + c * (np.identity(d))\n",
    "    "
   ]
  },
  {
   "cell_type": "markdown",
   "metadata": {},
   "source": [
    "Okay, let's try out your function. In particular, we will use **displaychar** to visualize the means of the Gaussians for the first three digits. You can try the other digits on your own."
   ]
  },
  {
   "cell_type": "code",
   "execution_count": 55,
   "metadata": {},
   "outputs": [],
   "source": [
    "mu, sigma, pi = fit_generative_model(train_data, train_labels)\n"
   ]
  },
  {
   "cell_type": "code",
   "execution_count": 56,
   "metadata": {},
   "outputs": [
    {
     "data": {
      "image/png": "[encoded data removed]",
      "text/plain": [
       "<Figure size 432x288 with 1 Axes>"
      ]
     },
     "metadata": {
      "needs_background": "light"
     },
     "output_type": "display_data"
    },
    {
     "data": {
      "image/png": "[encoded data removed]",
      "text/plain": [
       "<Figure size 432x288 with 1 Axes>"
      ]
     },
     "metadata": {
      "needs_background": "light"
     },
     "output_type": "display_data"
    },
    {
     "data": {
      "image/png": "[encoded data removed]",
      "text/plain": [
       "<Figure size 432x288 with 1 Axes>"
      ]
     },
     "metadata": {
      "needs_background": "light"
     },
     "output_type": "display_data"
    },
    {
     "data": {
      "image/png": "[encoded data removed]",
      "text/plain": [
       "<Figure size 432x288 with 1 Axes>"
      ]
     },
     "metadata": {
      "needs_background": "light"
     },
     "output_type": "display_data"
    },
    {
     "data": {
      "image/png": "[encoded data removed]",
      "text/plain": [
       "<Figure size 432x288 with 1 Axes>"
      ]
     },
     "metadata": {
      "needs_background": "light"
     },
     "output_type": "display_data"
    },
    {
     "data": {
      "image/png": "[encoded data removed]",
      "text/plain": [
       "<Figure size 432x288 with 1 Axes>"
      ]
     },
     "metadata": {
      "needs_background": "light"
     },
     "output_type": "display_data"
    },
    {
     "data": {
      "image/png": "[encoded data removed]",
      "text/plain": [
       "<Figure size 432x288 with 1 Axes>"
      ]
     },
     "metadata": {
      "needs_background": "light"
     },
     "output_type": "display_data"
    },
    {
     "data": {
      "image/png": "[encoded data removed]",
      "text/plain": [
       "<Figure size 432x288 with 1 Axes>"
      ]
     },
     "metadata": {
      "needs_background": "light"
     },
     "output_type": "display_data"
    },
    {
     "data": {
      "image/png": "[encoded data removed]",
      "text/plain": [
       "<Figure size 432x288 with 1 Axes>"
      ]
     },
     "metadata": {
      "needs_background": "light"
     },
     "output_type": "display_data"
    },
    {
     "data": {
      "image/png": "[encoded data removed]",
      "text/plain": [
       "<Figure size 432x288 with 1 Axes>"
      ]
     },
     "metadata": {
      "needs_background": "light"
     },
     "output_type": "display_data"
    }
   ],
   "source": [
    "k = 10 # labels 0,1,...,k-1\n",
    "for j in range(k):\n",
    "    displaychar(mu[j])"
   ]
  },
  {
   "cell_type": "markdown",
   "metadata": {},
   "source": [
    "## 3. Make predictions on test data"
   ]
  },
  {
   "cell_type": "markdown",
   "metadata": {},
   "source": [
    "Now let's see how many errors your model makes on the test set."
   ]
  },
  {
   "cell_type": "code",
   "execution_count": 99,
   "metadata": {},
   "outputs": [],
   "source": [
    "def compute_errors(c):\n",
    "    # Compute log Pr(label|image) for each [test image,label] pair.\n",
    "    score = np.zeros((len(test_labels),k))\n",
    "    for label in range(0,k):\n",
    "        rv = multivariate_normal(mean=mu[label], cov=regularize(sigma[label],c))\n",
    "        for i in range(0,len(test_labels)):\n",
    "           score[i,label] = np.log(pi[label]) + rv.logpdf(test_data[i,:])\n",
    "    predictions = np.argmax(score, axis=1)\n",
    "    # Finally, tally up score\n",
    "    errors = np.sum(predictions != test_labels)\n",
    "    print (\"Your model makes \" + str(errors) + \" errors out of 10000\")\n"
   ]
  },
  {
   "cell_type": "code",
   "execution_count": 65,
   "metadata": {},
   "outputs": [
    {
     "name": "stdout",
     "output_type": "stream",
     "text": [
      "Your model makes 1588 errors out of 10000\n"
     ]
    }
   ],
   "source": [
    "compute_errors(1) #Compute errors using c = 1"
   ]
  },
  {
   "cell_type": "markdown",
   "metadata": {},
   "source": [
    "## 4. Quick exercises"
   ]
  },
  {
   "cell_type": "markdown",
   "metadata": {},
   "source": [
    "*You will need to answer variants of these questions as part of this week's assignment*."
   ]
  },
  {
   "cell_type": "markdown",
   "metadata": {},
   "source": [
    "<font color=\"magenta\">Exercise 1:</font> What happens if you do not regularize the covariance matrices?"
   ]
  },
  {
   "cell_type": "markdown",
   "metadata": {},
   "source": [
    "##### The multivariate_normal function throws LinAlgError: singular matrix"
   ]
  },
  {
   "cell_type": "markdown",
   "metadata": {},
   "source": [
    "<font color=\"magenta\">Exercise 2:</font> What happens if you set the value of `c` too high, for instance to one billion? Do you understand why this happens?"
   ]
  },
  {
   "cell_type": "code",
   "execution_count": 66,
   "metadata": {},
   "outputs": [
    {
     "name": "stdout",
     "output_type": "stream",
     "text": [
      "Your model makes 3422 errors out of 10000\n"
     ]
    }
   ],
   "source": [
    "compute_errors(1000000) #Compute errors using c = 1000000"
   ]
  },
  {
   "cell_type": "markdown",
   "metadata": {},
   "source": [
    "<font color=\"magenta\">Exercise 3:</font> What value of c did you end up using? How many errors did your model make on the training set?"
   ]
  },
  {
   "cell_type": "code",
   "execution_count": 87,
   "metadata": {},
   "outputs": [
    {
     "name": "stdout",
     "output_type": "stream",
     "text": [
      "For c = 0.001\n",
      "Your model makes 2468 errors out of 10000\n",
      "\n",
      "For c = 0.01\n",
      "Your model makes 2190 errors out of 10000\n",
      "\n",
      "For c = 0.1\n",
      "Your model makes 1891 errors out of 10000\n",
      "\n",
      "For c = 1.0\n",
      "Your model makes 1588 errors out of 10000\n",
      "\n",
      "For c = 10.0\n",
      "Your model makes 1226 errors out of 10000\n",
      "\n",
      "For c = 100.0\n",
      "Your model makes 805 errors out of 10000\n",
      "\n",
      "For c = 1000.0\n",
      "Your model makes 489 errors out of 10000\n",
      "\n",
      "For c = 10000.0\n",
      "Your model makes 508 errors out of 10000\n",
      "\n",
      "For c = 100000.0\n",
      "Your model makes 1443 errors out of 10000\n",
      "\n",
      "For c = 1000000.0\n",
      "Your model makes 3422 errors out of 10000\n",
      "\n",
      "For c = 10000000.0\n",
      "Your model makes 7929 errors out of 10000\n",
      "\n",
      "For c = 100000000.0\n",
      "Your model makes 8865 errors out of 10000\n",
      "\n",
      "For c = 1000000000.0\n",
      "Your model makes 8865 errors out of 10000\n",
      "\n"
     ]
    }
   ],
   "source": [
    "FROM = -3\n",
    "TO = 9\n",
    "\n",
    "for c in np.logspace(FROM,TO,num=TO-FROM+1,base=10,dtype='float'):\n",
    "    print(\"For c = \" + str(c))\n",
    "    compute_errors(c)\n",
    "    print()"
   ]
  },
  {
   "cell_type": "code",
   "execution_count": 88,
   "metadata": {},
   "outputs": [
    {
     "name": "stdout",
     "output_type": "stream",
     "text": [
      "For c = 100\n",
      "Your model makes 805 errors out of 10000\n",
      "\n",
      "For c = 200\n",
      "Your model makes 688 errors out of 10000\n",
      "\n",
      "For c = 300\n",
      "Your model makes 627 errors out of 10000\n",
      "\n",
      "For c = 400\n",
      "Your model makes 595 errors out of 10000\n",
      "\n",
      "For c = 500\n",
      "Your model makes 563 errors out of 10000\n",
      "\n",
      "For c = 600\n",
      "Your model makes 533 errors out of 10000\n",
      "\n",
      "For c = 700\n",
      "Your model makes 520 errors out of 10000\n",
      "\n",
      "For c = 800\n",
      "Your model makes 505 errors out of 10000\n",
      "\n",
      "For c = 900\n",
      "Your model makes 493 errors out of 10000\n",
      "\n",
      "For c = 1000\n",
      "Your model makes 489 errors out of 10000\n",
      "\n",
      "For c = 2000\n",
      "Your model makes 437 errors out of 10000\n",
      "\n",
      "For c = 3000\n",
      "Your model makes 435 errors out of 10000\n",
      "\n",
      "For c = 4000\n",
      "Your model makes 431 errors out of 10000\n",
      "\n",
      "For c = 5000\n",
      "Your model makes 438 errors out of 10000\n",
      "\n",
      "For c = 6000\n",
      "Your model makes 447 errors out of 10000\n",
      "\n",
      "For c = 7000\n",
      "Your model makes 472 errors out of 10000\n",
      "\n",
      "For c = 8000\n",
      "Your model makes 487 errors out of 10000\n",
      "\n",
      "For c = 9000\n",
      "Your model makes 500 errors out of 10000\n",
      "\n"
     ]
    }
   ],
   "source": [
    "for c in range (100,1000,100):\n",
    "    print(\"For c = \" + str(c))\n",
    "    compute_errors(c)\n",
    "    print()\n",
    "    \n",
    "for c in range (1000,10000,1000):\n",
    "    print(\"For c = \" + str(c))\n",
    "    compute_errors(c)\n",
    "    print()"
   ]
  },
  {
   "cell_type": "markdown",
   "metadata": {},
   "source": [
    "<font color=\"magenta\">If you have the time</font>: We have talked about using the same regularization constant `c` for all ten classes. What about using a different value of `c` for each class? How would you go about choosing these? Can you get better performance in this way?"
   ]
  },
  {
   "cell_type": "code",
   "execution_count": 94,
   "metadata": {},
   "outputs": [
    {
     "name": "stdout",
     "output_type": "stream",
     "text": [
      "For c = [0.1, 0.1, 0.1, 0.1, 0.1, 0.1, 0.1, 0.1, 0.1, 0.1]\n",
      "Your model makes 1891 errors out of 10000\n",
      "\n",
      "For c = [1.0, 0.1, 0.1, 0.1, 0.1, 0.1, 0.1, 0.1, 0.1, 0.1]\n",
      "Your model makes 2079 errors out of 10000\n",
      "\n",
      "For c = [10.0, 0.1, 0.1, 0.1, 0.1, 0.1, 0.1, 0.1, 0.1, 0.1]\n",
      "Your model makes 2501 errors out of 10000\n",
      "\n",
      "For c = [100.0, 0.1, 0.1, 0.1, 0.1, 0.1, 0.1, 0.1, 0.1, 0.1]\n",
      "Your model makes 2684 errors out of 10000\n",
      "\n",
      "For c = [1000.0, 0.1, 0.1, 0.1, 0.1, 0.1, 0.1, 0.1, 0.1, 0.1]\n",
      "Your model makes 2746 errors out of 10000\n",
      "\n",
      "For c = [10000.0, 0.1, 0.1, 0.1, 0.1, 0.1, 0.1, 0.1, 0.1, 0.1]\n",
      "Your model makes 2758 errors out of 10000\n",
      "\n",
      "For c = [0.1, 0.1, 0.1, 0.1, 0.1, 0.1, 0.1, 0.1, 0.1, 0.1]\n",
      "Your model makes 1891 errors out of 10000\n",
      "\n",
      "For c = [0.1, 1.0, 0.1, 0.1, 0.1, 0.1, 0.1, 0.1, 0.1, 0.1]\n",
      "Your model makes 1924 errors out of 10000\n",
      "\n",
      "For c = [0.1, 10.0, 0.1, 0.1, 0.1, 0.1, 0.1, 0.1, 0.1, 0.1]\n",
      "Your model makes 2933 errors out of 10000\n",
      "\n",
      "For c = [0.1, 100.0, 0.1, 0.1, 0.1, 0.1, 0.1, 0.1, 0.1, 0.1]\n",
      "Your model makes 2936 errors out of 10000\n",
      "\n",
      "For c = [0.1, 1000.0, 0.1, 0.1, 0.1, 0.1, 0.1, 0.1, 0.1, 0.1]\n",
      "Your model makes 2944 errors out of 10000\n",
      "\n",
      "For c = [0.1, 10000.0, 0.1, 0.1, 0.1, 0.1, 0.1, 0.1, 0.1, 0.1]\n",
      "Your model makes 2946 errors out of 10000\n",
      "\n",
      "For c = [0.1, 0.1, 0.1, 0.1, 0.1, 0.1, 0.1, 0.1, 0.1, 0.1]\n",
      "Your model makes 1891 errors out of 10000\n",
      "\n",
      "For c = [0.1, 0.1, 1.0, 0.1, 0.1, 0.1, 0.1, 0.1, 0.1, 0.1]\n",
      "Your model makes 2195 errors out of 10000\n",
      "\n",
      "For c = [0.1, 0.1, 10.0, 0.1, 0.1, 0.1, 0.1, 0.1, 0.1, 0.1]\n",
      "Your model makes 2365 errors out of 10000\n",
      "\n",
      "For c = [0.1, 0.1, 100.0, 0.1, 0.1, 0.1, 0.1, 0.1, 0.1, 0.1]\n",
      "Your model makes 2471 errors out of 10000\n",
      "\n",
      "For c = [0.1, 0.1, 1000.0, 0.1, 0.1, 0.1, 0.1, 0.1, 0.1, 0.1]\n",
      "Your model makes 2532 errors out of 10000\n",
      "\n",
      "For c = [0.1, 0.1, 10000.0, 0.1, 0.1, 0.1, 0.1, 0.1, 0.1, 0.1]\n",
      "Your model makes 2582 errors out of 10000\n",
      "\n",
      "For c = [0.1, 0.1, 0.1, 0.1, 0.1, 0.1, 0.1, 0.1, 0.1, 0.1]\n",
      "Your model makes 1891 errors out of 10000\n",
      "\n",
      "For c = [0.1, 0.1, 0.1, 1.0, 0.1, 0.1, 0.1, 0.1, 0.1, 0.1]\n",
      "Your model makes 2383 errors out of 10000\n",
      "\n",
      "For c = [0.1, 0.1, 0.1, 10.0, 0.1, 0.1, 0.1, 0.1, 0.1, 0.1]\n",
      "Your model makes 2523 errors out of 10000\n",
      "\n",
      "For c = [0.1, 0.1, 0.1, 100.0, 0.1, 0.1, 0.1, 0.1, 0.1, 0.1]\n",
      "Your model makes 2546 errors out of 10000\n",
      "\n",
      "For c = [0.1, 0.1, 0.1, 1000.0, 0.1, 0.1, 0.1, 0.1, 0.1, 0.1]\n",
      "Your model makes 2574 errors out of 10000\n",
      "\n",
      "For c = [0.1, 0.1, 0.1, 10000.0, 0.1, 0.1, 0.1, 0.1, 0.1, 0.1]\n",
      "Your model makes 2586 errors out of 10000\n",
      "\n",
      "For c = [0.1, 0.1, 0.1, 0.1, 0.1, 0.1, 0.1, 0.1, 0.1, 0.1]\n",
      "Your model makes 1891 errors out of 10000\n",
      "\n",
      "For c = [0.1, 0.1, 0.1, 0.1, 1.0, 0.1, 0.1, 0.1, 0.1, 0.1]\n",
      "Your model makes 2329 errors out of 10000\n",
      "\n",
      "For c = [0.1, 0.1, 0.1, 0.1, 10.0, 0.1, 0.1, 0.1, 0.1, 0.1]\n",
      "Your model makes 2530 errors out of 10000\n",
      "\n",
      "For c = [0.1, 0.1, 0.1, 0.1, 100.0, 0.1, 0.1, 0.1, 0.1, 0.1]\n",
      "Your model makes 2576 errors out of 10000\n",
      "\n",
      "For c = [0.1, 0.1, 0.1, 0.1, 1000.0, 0.1, 0.1, 0.1, 0.1, 0.1]\n",
      "Your model makes 2588 errors out of 10000\n",
      "\n",
      "For c = [0.1, 0.1, 0.1, 0.1, 10000.0, 0.1, 0.1, 0.1, 0.1, 0.1]\n",
      "Your model makes 2591 errors out of 10000\n",
      "\n",
      "For c = [0.1, 0.1, 0.1, 0.1, 0.1, 0.1, 0.1, 0.1, 0.1, 0.1]\n",
      "Your model makes 1891 errors out of 10000\n",
      "\n",
      "For c = [0.1, 0.1, 0.1, 0.1, 0.1, 1.0, 0.1, 0.1, 0.1, 0.1]\n",
      "Your model makes 2279 errors out of 10000\n",
      "\n",
      "For c = [0.1, 0.1, 0.1, 0.1, 0.1, 10.0, 0.1, 0.1, 0.1, 0.1]\n",
      "Your model makes 2365 errors out of 10000\n",
      "\n",
      "For c = [0.1, 0.1, 0.1, 0.1, 0.1, 100.0, 0.1, 0.1, 0.1, 0.1]\n",
      "Your model makes 2374 errors out of 10000\n",
      "\n",
      "For c = [0.1, 0.1, 0.1, 0.1, 0.1, 1000.0, 0.1, 0.1, 0.1, 0.1]\n",
      "Your model makes 2381 errors out of 10000\n",
      "\n",
      "For c = [0.1, 0.1, 0.1, 0.1, 0.1, 10000.0, 0.1, 0.1, 0.1, 0.1]\n",
      "Your model makes 2384 errors out of 10000\n",
      "\n",
      "For c = [0.1, 0.1, 0.1, 0.1, 0.1, 0.1, 0.1, 0.1, 0.1, 0.1]\n",
      "Your model makes 1891 errors out of 10000\n",
      "\n",
      "For c = [0.1, 0.1, 0.1, 0.1, 0.1, 0.1, 1.0, 0.1, 0.1, 0.1]\n",
      "Your model makes 1989 errors out of 10000\n",
      "\n",
      "For c = [0.1, 0.1, 0.1, 0.1, 0.1, 0.1, 10.0, 0.1, 0.1, 0.1]\n",
      "Your model makes 2263 errors out of 10000\n",
      "\n",
      "For c = [0.1, 0.1, 0.1, 0.1, 0.1, 0.1, 100.0, 0.1, 0.1, 0.1]\n",
      "Your model makes 2598 errors out of 10000\n",
      "\n",
      "For c = [0.1, 0.1, 0.1, 0.1, 0.1, 0.1, 1000.0, 0.1, 0.1, 0.1]\n",
      "Your model makes 2666 errors out of 10000\n",
      "\n",
      "For c = [0.1, 0.1, 0.1, 0.1, 0.1, 0.1, 10000.0, 0.1, 0.1, 0.1]\n",
      "Your model makes 2695 errors out of 10000\n",
      "\n",
      "For c = [0.1, 0.1, 0.1, 0.1, 0.1, 0.1, 0.1, 0.1, 0.1, 0.1]\n",
      "Your model makes 1891 errors out of 10000\n",
      "\n",
      "For c = [0.1, 0.1, 0.1, 0.1, 0.1, 0.1, 0.1, 1.0, 0.1, 0.1]\n",
      "Your model makes 2187 errors out of 10000\n",
      "\n",
      "For c = [0.1, 0.1, 0.1, 0.1, 0.1, 0.1, 0.1, 10.0, 0.1, 0.1]\n",
      "Your model makes 2313 errors out of 10000\n",
      "\n",
      "For c = [0.1, 0.1, 0.1, 0.1, 0.1, 0.1, 0.1, 100.0, 0.1, 0.1]\n",
      "Your model makes 2358 errors out of 10000\n",
      "\n",
      "For c = [0.1, 0.1, 0.1, 0.1, 0.1, 0.1, 0.1, 1000.0, 0.1, 0.1]\n",
      "Your model makes 2403 errors out of 10000\n",
      "\n",
      "For c = [0.1, 0.1, 0.1, 0.1, 0.1, 0.1, 0.1, 10000.0, 0.1, 0.1]\n",
      "Your model makes 2437 errors out of 10000\n",
      "\n",
      "For c = [0.1, 0.1, 0.1, 0.1, 0.1, 0.1, 0.1, 0.1, 0.1, 0.1]\n",
      "Your model makes 1891 errors out of 10000\n",
      "\n",
      "For c = [0.1, 0.1, 0.1, 0.1, 0.1, 0.1, 0.1, 0.1, 1.0, 0.1]\n",
      "Your model makes 2027 errors out of 10000\n",
      "\n",
      "For c = [0.1, 0.1, 0.1, 0.1, 0.1, 0.1, 0.1, 0.1, 10.0, 0.1]\n",
      "Your model makes 2256 errors out of 10000\n",
      "\n",
      "For c = [0.1, 0.1, 0.1, 0.1, 0.1, 0.1, 0.1, 0.1, 100.0, 0.1]\n",
      "Your model makes 2277 errors out of 10000\n",
      "\n",
      "For c = [0.1, 0.1, 0.1, 0.1, 0.1, 0.1, 0.1, 0.1, 1000.0, 0.1]\n",
      "Your model makes 2290 errors out of 10000\n",
      "\n",
      "For c = [0.1, 0.1, 0.1, 0.1, 0.1, 0.1, 0.1, 0.1, 10000.0, 0.1]\n",
      "Your model makes 2290 errors out of 10000\n",
      "\n",
      "For c = [0.1, 0.1, 0.1, 0.1, 0.1, 0.1, 0.1, 0.1, 0.1, 0.1]\n",
      "Your model makes 1891 errors out of 10000\n",
      "\n",
      "For c = [0.1, 0.1, 0.1, 0.1, 0.1, 0.1, 0.1, 0.1, 0.1, 1.0]\n",
      "Your model makes 2194 errors out of 10000\n",
      "\n",
      "For c = [0.1, 0.1, 0.1, 0.1, 0.1, 0.1, 0.1, 0.1, 0.1, 10.0]\n",
      "Your model makes 2334 errors out of 10000\n",
      "\n",
      "For c = [0.1, 0.1, 0.1, 0.1, 0.1, 0.1, 0.1, 0.1, 0.1, 100.0]\n",
      "Your model makes 2351 errors out of 10000\n",
      "\n",
      "For c = [0.1, 0.1, 0.1, 0.1, 0.1, 0.1, 0.1, 0.1, 0.1, 1000.0]\n",
      "Your model makes 2364 errors out of 10000\n",
      "\n",
      "For c = [0.1, 0.1, 0.1, 0.1, 0.1, 0.1, 0.1, 0.1, 0.1, 10000.0]\n",
      "Your model makes 2365 errors out of 10000\n",
      "\n"
     ]
    }
   ],
   "source": [
    "def compute_errors_ind(c):\n",
    "    # Compute log Pr(label|image) for each [test image,label] pair.\n",
    "    score = np.zeros((len(test_labels),k))\n",
    "    for label in range(0,k):\n",
    "        rv = multivariate_normal(mean=mu[label], cov=regularize(sigma[label],c[label]))\n",
    "        for i in range(0,len(test_labels)):\n",
    "           score[i,label] = np.log(pi[label]) + rv.logpdf(test_data[i,:])\n",
    "    predictions = np.argmax(score, axis=1)\n",
    "    # Finally, tally up score\n",
    "    errors = np.sum(predictions != test_labels)\n",
    "    print (\"Your model makes \" + str(errors) + \" errors out of 10000\")\n",
    "\n",
    "FROM = -1\n",
    "TO = 4    \n",
    "for i in range(10):\n",
    "    c = [10**FROM for x in range(10)]\n",
    "    for c[i] in np.logspace(FROM,TO,num=TO-FROM+1,base=10,dtype='float'):\n",
    "        print(\"For c = \" + str(c))\n",
    "        compute_errors_ind(c)\n",
    "        print()\n"
   ]
  },
  {
   "cell_type": "code",
   "execution_count": 98,
   "metadata": {},
   "outputs": [
    {
     "name": "stdout",
     "output_type": "stream",
     "text": [
      "For c = [3900, 4000, 4000, 4000, 4000, 4000, 4000, 4000, 4000, 4000]\n",
      "Your model makes 452 errors out of 10000\n",
      "\n",
      "For c = [4000, 4000, 4000, 4000, 4000, 4000, 4000, 4000, 4000, 4000]\n",
      "Your model makes 431 errors out of 10000\n",
      "\n",
      "For c = [4100, 4000, 4000, 4000, 4000, 4000, 4000, 4000, 4000, 4000]\n",
      "Your model makes 424 errors out of 10000\n",
      "\n",
      "For c = [4000, 3900, 4000, 4000, 4000, 4000, 4000, 4000, 4000, 4000]\n",
      "Your model makes 457 errors out of 10000\n",
      "\n",
      "For c = [4000, 4000, 4000, 4000, 4000, 4000, 4000, 4000, 4000, 4000]\n",
      "Your model makes 431 errors out of 10000\n",
      "\n",
      "For c = [4000, 4100, 4000, 4000, 4000, 4000, 4000, 4000, 4000, 4000]\n",
      "Your model makes 408 errors out of 10000\n",
      "\n",
      "For c = [4000, 4000, 3900, 4000, 4000, 4000, 4000, 4000, 4000, 4000]\n",
      "Your model makes 414 errors out of 10000\n",
      "\n",
      "For c = [4000, 4000, 4000, 4000, 4000, 4000, 4000, 4000, 4000, 4000]\n",
      "Your model makes 431 errors out of 10000\n",
      "\n",
      "For c = [4000, 4000, 4100, 4000, 4000, 4000, 4000, 4000, 4000, 4000]\n",
      "Your model makes 464 errors out of 10000\n",
      "\n",
      "For c = [4000, 4000, 4000, 3900, 4000, 4000, 4000, 4000, 4000, 4000]\n",
      "Your model makes 456 errors out of 10000\n",
      "\n",
      "For c = [4000, 4000, 4000, 4000, 4000, 4000, 4000, 4000, 4000, 4000]\n",
      "Your model makes 431 errors out of 10000\n",
      "\n",
      "For c = [4000, 4000, 4000, 4100, 4000, 4000, 4000, 4000, 4000, 4000]\n",
      "Your model makes 471 errors out of 10000\n",
      "\n",
      "For c = [4000, 4000, 4000, 4000, 3900, 4000, 4000, 4000, 4000, 4000]\n",
      "Your model makes 427 errors out of 10000\n",
      "\n",
      "For c = [4000, 4000, 4000, 4000, 4000, 4000, 4000, 4000, 4000, 4000]\n",
      "Your model makes 431 errors out of 10000\n",
      "\n",
      "For c = [4000, 4000, 4000, 4000, 4100, 4000, 4000, 4000, 4000, 4000]\n",
      "Your model makes 490 errors out of 10000\n",
      "\n",
      "For c = [4000, 4000, 4000, 4000, 4000, 3900, 4000, 4000, 4000, 4000]\n",
      "Your model makes 429 errors out of 10000\n",
      "\n",
      "For c = [4000, 4000, 4000, 4000, 4000, 4000, 4000, 4000, 4000, 4000]\n",
      "Your model makes 431 errors out of 10000\n",
      "\n",
      "For c = [4000, 4000, 4000, 4000, 4000, 4100, 4000, 4000, 4000, 4000]\n",
      "Your model makes 482 errors out of 10000\n",
      "\n",
      "For c = [4000, 4000, 4000, 4000, 4000, 4000, 3900, 4000, 4000, 4000]\n",
      "Your model makes 431 errors out of 10000\n",
      "\n",
      "For c = [4000, 4000, 4000, 4000, 4000, 4000, 4000, 4000, 4000, 4000]\n",
      "Your model makes 431 errors out of 10000\n",
      "\n",
      "For c = [4000, 4000, 4000, 4000, 4000, 4000, 4100, 4000, 4000, 4000]\n",
      "Your model makes 434 errors out of 10000\n",
      "\n",
      "For c = [4000, 4000, 4000, 4000, 4000, 4000, 4000, 3900, 4000, 4000]\n",
      "Your model makes 425 errors out of 10000\n",
      "\n",
      "For c = [4000, 4000, 4000, 4000, 4000, 4000, 4000, 4000, 4000, 4000]\n",
      "Your model makes 431 errors out of 10000\n",
      "\n",
      "For c = [4000, 4000, 4000, 4000, 4000, 4000, 4000, 4100, 4000, 4000]\n",
      "Your model makes 484 errors out of 10000\n",
      "\n",
      "For c = [4000, 4000, 4000, 4000, 4000, 4000, 4000, 4000, 3900, 4000]\n",
      "Your model makes 481 errors out of 10000\n",
      "\n",
      "For c = [4000, 4000, 4000, 4000, 4000, 4000, 4000, 4000, 4000, 4000]\n",
      "Your model makes 431 errors out of 10000\n",
      "\n",
      "For c = [4000, 4000, 4000, 4000, 4000, 4000, 4000, 4000, 4100, 4000]\n",
      "Your model makes 443 errors out of 10000\n",
      "\n",
      "For c = [4000, 4000, 4000, 4000, 4000, 4000, 4000, 4000, 4000, 3900]\n",
      "Your model makes 561 errors out of 10000\n",
      "\n",
      "For c = [4000, 4000, 4000, 4000, 4000, 4000, 4000, 4000, 4000, 4000]\n",
      "Your model makes 431 errors out of 10000\n",
      "\n",
      "For c = [4000, 4000, 4000, 4000, 4000, 4000, 4000, 4000, 4000, 4100]\n",
      "Your model makes 409 errors out of 10000\n",
      "\n"
     ]
    }
   ],
   "source": [
    "# From the c that gave the min error, variating one at the time:\n",
    "for i in range(10):\n",
    "    c = [4000 for x in range(10)]\n",
    "    for c[i] in range(3900, 4100+1, 100):\n",
    "        print(\"For c = \" + str(c))\n",
    "        compute_errors_ind(c)\n",
    "        print()"
   ]
  },
  {
   "cell_type": "code",
   "execution_count": 101,
   "metadata": {},
   "outputs": [
    {
     "name": "stdout",
     "output_type": "stream",
     "text": [
      "Your model makes 437 errors out of 10000\n"
     ]
    }
   ],
   "source": [
    "c = [4100,4100,3900,4000,3900,3900,3900,3900,4000,4100]\n",
    "compute_errors_ind(c)"
   ]
  },
  {
   "cell_type": "markdown",
   "metadata": {},
   "source": [
    "#### Adjusting one parameter at a time does not improve significantly the performance."
   ]
  }
 ],
 "metadata": {
  "kernelspec": {
   "display_name": "Python 3",
   "language": "python",
   "name": "python3"
  },
  "language_info": {
   "codemirror_mode": {
    "name": "ipython",
    "version": 3
   },
   "file_extension": ".py",
   "mimetype": "text/x-python",
   "name": "python",
   "nbconvert_exporter": "python",
   "pygments_lexer": "ipython3",
   "version": "3.8.5"
  },
  "toc": {
   "colors": {
    "hover_highlight": "#DAA520",
    "navigate_num": "#000000",
    "navigate_text": "#333333",
    "running_highlight": "#FF0000",
    "selected_highlight": "#FFD700",
    "sidebar_border": "#EEEEEE",
    "wrapper_background": "#FFFFFF"
   },
   "moveMenuLeft": true,
   "nav_menu": {
    "height": "12px",
    "width": "252px"
   },
   "navigate_menu": true,
   "number_sections": false,
   "sideBar": true,
   "threshold": 4,
   "toc_cell": false,
   "toc_section_display": "block",
   "toc_window_display": false,
   "widenNotebook": false
  }
 },
 "nbformat": 4,
 "nbformat_minor": 4
}
